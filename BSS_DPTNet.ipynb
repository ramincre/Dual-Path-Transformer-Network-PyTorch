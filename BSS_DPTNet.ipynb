{
  "nbformat": 4,
  "nbformat_minor": 0,
  "metadata": {
    "colab": {
      "provenance": [],
      "gpuType": "T4",
      "authorship_tag": "ABX9TyOVxEkt9Bv9OMQIsnLrUdLo",
      "include_colab_link": true
    },
    "kernelspec": {
      "name": "python3",
      "display_name": "Python 3"
    },
    "language_info": {
      "name": "python"
    },
    "accelerator": "GPU"
  },
  "cells": [
    {
      "cell_type": "markdown",
      "metadata": {
        "id": "view-in-github",
        "colab_type": "text"
      },
      "source": [
        "<a href=\"https://colab.research.google.com/github/ramincre/Dual-Path-Transformer-Network-PyTorch/blob/main/BSS_DPTNet.ipynb\" target=\"_parent\"><img src=\"https://colab.research.google.com/assets/colab-badge.svg\" alt=\"Open In Colab\"/></a>"
      ]
    },
    {
      "cell_type": "code",
      "source": [
        "!sudo apt-get update -y\n",
        "\n",
        "!sudo apt-get install python3.8\n",
        "\n",
        "!sudo update-alternatives --install /usr/bin/python3 python3 /usr/bin/python3.8 1\n",
        "\n",
        "!sudo update-alternatives --config python3\n",
        "\n",
        "!apt-get install python3-pip\n",
        "\n",
        "!python -m pip install --upgrade pip --user\n",
        "\n",
        "!sudo apt-get install --reinstall python3.8-distutils"
      ],
      "metadata": {
        "id": "Ij7mCuFoHpSo"
      },
      "execution_count": null,
      "outputs": []
    },
    {
      "cell_type": "code",
      "source": [
        "!python --version"
      ],
      "metadata": {
        "id": "RhoLjXDAhZBY"
      },
      "execution_count": null,
      "outputs": []
    },
    {
      "cell_type": "code",
      "source": [
        "from google.colab import drive\n",
        "drive.mount('/content/drive')"
      ],
      "metadata": {
        "id": "dSv_cbYaHU6O",
        "colab": {
          "base_uri": "https://localhost:8080/"
        },
        "outputId": "516109d8-60a4-426e-aa25-559d39155c0e"
      },
      "execution_count": 1,
      "outputs": [
        {
          "output_type": "stream",
          "name": "stdout",
          "text": [
            "Mounted at /content/drive\n"
          ]
        }
      ]
    },
    {
      "cell_type": "code",
      "source": [
        "!cp \"/content/drive/MyDrive/Dataset/MiniLibriMix.rar\" \"/content\""
      ],
      "metadata": {
        "id": "E6ivoLKGH1SS"
      },
      "execution_count": 2,
      "outputs": []
    },
    {
      "cell_type": "code",
      "source": [
        "!unrar x /content/MiniLibriMix.rar"
      ],
      "metadata": {
        "id": "ZZjJfLda75lF"
      },
      "execution_count": null,
      "outputs": []
    },
    {
      "cell_type": "code",
      "source": [
        "import os"
      ],
      "metadata": {
        "id": "09qZ1ZlZiqgy"
      },
      "execution_count": 4,
      "outputs": []
    },
    {
      "cell_type": "code",
      "source": [
        "!pip install librosa\n",
        "!pip install torch"
      ],
      "metadata": {
        "id": "DlDE4SELIbSk"
      },
      "execution_count": null,
      "outputs": []
    },
    {
      "cell_type": "code",
      "source": [
        "import torch\n",
        "torch.cuda.is_available()"
      ],
      "metadata": {
        "id": "gLK_7dD5H6Sc",
        "colab": {
          "base_uri": "https://localhost:8080/"
        },
        "outputId": "989bdcf8-c4ee-426a-f4f8-6c86bea89f34"
      },
      "execution_count": 5,
      "outputs": [
        {
          "output_type": "execute_result",
          "data": {
            "text/plain": [
              "True"
            ]
          },
          "metadata": {},
          "execution_count": 5
        }
      ]
    },
    {
      "cell_type": "code",
      "execution_count": null,
      "metadata": {
        "id": "RhLKmXY07rjK"
      },
      "outputs": [],
      "source": [
        "#!wget https://zenodo.org/records/3871592/files/MiniLibriMix.zip?download=1"
      ]
    },
    {
      "cell_type": "code",
      "source": [
        "#os.rename('/content/MiniLibriMix.zip?download=1','/content/MiniLibriMix.zip')"
      ],
      "metadata": {
        "id": "hcM0TaQ4inBi"
      },
      "execution_count": null,
      "outputs": []
    },
    {
      "cell_type": "code",
      "source": [
        "!git clone https://github.com/ramincre/Dual-Path-Transformer-Network-PyTorch.git"
      ],
      "metadata": {
        "id": "9Bo-emZQ8KJu",
        "colab": {
          "base_uri": "https://localhost:8080/"
        },
        "outputId": "c0ed7330-9804-4b94-d239-c99411d1fd5e"
      },
      "execution_count": 6,
      "outputs": [
        {
          "output_type": "stream",
          "name": "stdout",
          "text": [
            "Cloning into 'Dual-Path-Transformer-Network-PyTorch'...\n",
            "remote: Enumerating objects: 292, done.\u001b[K\n",
            "remote: Counting objects: 100% (130/130), done.\u001b[K\n",
            "remote: Compressing objects: 100% (55/55), done.\u001b[K\n",
            "remote: Total 292 (delta 63), reused 130 (delta 63), pack-reused 162\u001b[K\n",
            "Receiving objects: 100% (292/292), 2.61 MiB | 5.91 MiB/s, done.\n",
            "Resolving deltas: 100% (132/132), done.\n"
          ]
        }
      ]
    },
    {
      "cell_type": "code",
      "source": [
        "\"\"\"\n",
        "os.rename('/content/MiniLibriMix','/content/WSJ2mix')\n",
        "os.rename('/content/WSJ2mix/train','/content/WSJ2mix/tr')\n",
        "os.rename('/content/WSJ2mix/val','/content/WSJ2mix/cv')\n",
        "os.rename('/content/WSJ2mix/tr/mix_both','/content/WSJ2mix/tr/mix')\n",
        "os.rename('/content/WSJ2mix/cv/mix_both','/content/WSJ2mix/cv/mix')\n",
        "\"\"\""
      ],
      "metadata": {
        "id": "47H_GyLA-vbM"
      },
      "execution_count": null,
      "outputs": []
    },
    {
      "cell_type": "code",
      "source": [
        "!mkdir /content/output\n",
        "\"\"\"\n",
        "!mkdir /content/WSJ2mix/tt\n",
        "!mkdir /content/WSJ2mix/tt/mix\n",
        "!mkdir /content/WSJ2mix/tt/s1\n",
        "!mkdir /content/WSJ2mix/tt/s2\n",
        "\"\"\""
      ],
      "metadata": {
        "id": "V_oQg6MSFO_j",
        "colab": {
          "base_uri": "https://localhost:8080/",
          "height": 53
        },
        "outputId": "ded91352-f02f-46f5-f5a2-fc79048532ee"
      },
      "execution_count": 7,
      "outputs": [
        {
          "output_type": "execute_result",
          "data": {
            "text/plain": [
              "'\\n!mkdir /content/WSJ2mix/tt\\n!mkdir /content/WSJ2mix/tt/mix\\n!mkdir /content/WSJ2mix/tt/s1\\n!mkdir /content/WSJ2mix/tt/s2\\n'"
            ],
            "application/vnd.google.colaboratory.intrinsic+json": {
              "type": "string"
            }
          },
          "metadata": {},
          "execution_count": 7
        }
      ]
    },
    {
      "cell_type": "code",
      "source": [
        "!python /content/Dual-Path-Transformer-Network-PyTorch/preprocess.py --in-dir /content/MiniLibriMix --out-dir /content/output --sample-rate 8000"
      ],
      "metadata": {
        "id": "ufTemlYT8bs2",
        "colab": {
          "base_uri": "https://localhost:8080/"
        },
        "outputId": "5a7df43b-ee81-4b63-c548-df91a2f1b09a"
      },
      "execution_count": 8,
      "outputs": [
        {
          "output_type": "stream",
          "name": "stdout",
          "text": [
            "Namespace(in_dir='/content/MiniLibriMix', out_dir='/content/output', sample_rate=8000)\n"
          ]
        }
      ]
    },
    {
      "cell_type": "code",
      "source": [
        "!python /content/Dual-Path-Transformer-Network-PyTorch/train.py \\\n",
        "--train_dir '/content/output/tr'\\\n",
        " --valid_dir '/content/output/cv'\\\n",
        " --epochs 20 \\\n",
        " --batch_size 3 \\\n",
        " --num_workers 2  \\\n",
        " --N 16"
      ],
      "metadata": {
        "id": "mprJdVCI__Uy",
        "colab": {
          "base_uri": "https://localhost:8080/"
        },
        "outputId": "04d15033-d5a6-4fc6-a25d-4bcd5a89e46c"
      },
      "execution_count": null,
      "outputs": [
        {
          "output_type": "stream",
          "name": "stdout",
          "text": [
            "Namespace(train_dir='/content/output/tr', valid_dir='/content/output/cv', sample_rate=8000, segment=4, cv_maxlen=8, N=16, C=2, L=4, H=4, K=250, B=6, use_cuda=1, epochs=20, half_lr=0, early_stop=0, max_norm=5, shuffle=0, batch_size=3, num_workers=2, optimizer='adam', lr=0.125, momentum=0.0, l2=0.0, save_folder='exp/temp', checkpoint=0, continue_from='', model_path='final.pth.tar', print_freq=1000, visdom=0, visdom_epoch=0, visdom_id='TasNet training')\n",
            "Drop 38 utts(0.00 h) which is short than 32000 samples\n",
            "# of parameters: 180609\n",
            "Training...\n",
            "Epoch 1 | Iter 1 | Average Loss 7.428 | Current Loss 7.428497 | 7286.8 ms/batch\n",
            "-------------------------------------------------------------------------------------\n",
            "Train Summary | End of Epoch 1 | Time 161.52s | Train Loss 8.275\n",
            "-------------------------------------------------------------------------------------\n",
            "Cross validation...\n",
            "Epoch 1 | Iter 1 | Average Loss 3.033 | Current Loss 3.033265 | 2126.7 ms/batch\n",
            "-------------------------------------------------------------------------------------\n",
            "Valid Summary | End of Epoch 1 | Time 178.61s | Valid Loss 4.189\n",
            "-------------------------------------------------------------------------------------\n",
            "Find better validated model, saving to exp/temp/temp_best.pth.tar\n",
            "Training...\n",
            "Epoch 2 | Iter 1 | Average Loss 5.179 | Current Loss 5.178711 | 656.2 ms/batch\n",
            "-------------------------------------------------------------------------------------\n",
            "Train Summary | End of Epoch 2 | Time 156.64s | Train Loss 5.218\n",
            "-------------------------------------------------------------------------------------\n",
            "Cross validation...\n",
            "Epoch 2 | Iter 1 | Average Loss 1.791 | Current Loss 1.791408 | 147.9 ms/batch\n",
            "-------------------------------------------------------------------------------------\n",
            "Valid Summary | End of Epoch 2 | Time 171.51s | Valid Loss 2.351\n",
            "-------------------------------------------------------------------------------------\n",
            "Find better validated model, saving to exp/temp/temp_best.pth.tar\n",
            "Training...\n",
            "Epoch 3 | Iter 1 | Average Loss 2.440 | Current Loss 2.440046 | 629.9 ms/batch\n",
            "-------------------------------------------------------------------------------------\n",
            "Train Summary | End of Epoch 3 | Time 156.27s | Train Loss 2.738\n",
            "-------------------------------------------------------------------------------------\n",
            "Cross validation...\n",
            "Epoch 3 | Iter 1 | Average Loss 1.085 | Current Loss 1.085006 | 152.1 ms/batch\n",
            "-------------------------------------------------------------------------------------\n",
            "Valid Summary | End of Epoch 3 | Time 170.96s | Valid Loss 1.284\n",
            "-------------------------------------------------------------------------------------\n",
            "Find better validated model, saving to exp/temp/temp_best.pth.tar\n",
            "Training...\n",
            "Epoch 4 | Iter 1 | Average Loss 1.118 | Current Loss 1.118334 | 623.2 ms/batch\n",
            "-------------------------------------------------------------------------------------\n",
            "Train Summary | End of Epoch 4 | Time 156.59s | Train Loss 1.360\n",
            "-------------------------------------------------------------------------------------\n",
            "Cross validation...\n",
            "Epoch 4 | Iter 1 | Average Loss 0.789 | Current Loss 0.789237 | 148.7 ms/batch\n",
            "-------------------------------------------------------------------------------------\n",
            "Valid Summary | End of Epoch 4 | Time 171.30s | Valid Loss 0.630\n",
            "-------------------------------------------------------------------------------------\n",
            "Find better validated model, saving to exp/temp/temp_best.pth.tar\n",
            "Training...\n",
            "Epoch 5 | Iter 1 | Average Loss 0.482 | Current Loss 0.481845 | 651.3 ms/batch\n",
            "-------------------------------------------------------------------------------------\n",
            "Train Summary | End of Epoch 5 | Time 156.13s | Train Loss 0.632\n",
            "-------------------------------------------------------------------------------------\n",
            "Cross validation...\n",
            "Epoch 5 | Iter 1 | Average Loss 0.758 | Current Loss 0.758419 | 146.5 ms/batch\n",
            "-------------------------------------------------------------------------------------\n",
            "Valid Summary | End of Epoch 5 | Time 170.82s | Valid Loss 0.334\n",
            "-------------------------------------------------------------------------------------\n",
            "Find better validated model, saving to exp/temp/temp_best.pth.tar\n",
            "Training...\n",
            "Epoch 6 | Iter 1 | Average Loss 0.135 | Current Loss 0.135463 | 625.1 ms/batch\n",
            "-------------------------------------------------------------------------------------\n",
            "Train Summary | End of Epoch 6 | Time 156.02s | Train Loss 0.271\n",
            "-------------------------------------------------------------------------------------\n",
            "Cross validation...\n",
            "Epoch 6 | Iter 1 | Average Loss 0.765 | Current Loss 0.765214 | 147.1 ms/batch\n",
            "-------------------------------------------------------------------------------------\n",
            "Valid Summary | End of Epoch 6 | Time 170.69s | Valid Loss 0.282\n",
            "-------------------------------------------------------------------------------------\n",
            "Find better validated model, saving to exp/temp/temp_best.pth.tar\n",
            "Training...\n",
            "Epoch 7 | Iter 1 | Average Loss 0.081 | Current Loss 0.081236 | 623.6 ms/batch\n",
            "-------------------------------------------------------------------------------------\n",
            "Train Summary | End of Epoch 7 | Time 156.05s | Train Loss 0.070\n",
            "-------------------------------------------------------------------------------------\n",
            "Cross validation...\n",
            "Epoch 7 | Iter 1 | Average Loss 0.784 | Current Loss 0.784185 | 148.9 ms/batch\n",
            "-------------------------------------------------------------------------------------\n",
            "Valid Summary | End of Epoch 7 | Time 170.64s | Valid Loss 0.176\n",
            "-------------------------------------------------------------------------------------\n",
            "Find better validated model, saving to exp/temp/temp_best.pth.tar\n",
            "Training...\n",
            "Epoch 8 | Iter 1 | Average Loss 0.030 | Current Loss 0.029994 | 686.9 ms/batch\n",
            "-------------------------------------------------------------------------------------\n",
            "Train Summary | End of Epoch 8 | Time 156.06s | Train Loss -0.043\n",
            "-------------------------------------------------------------------------------------\n",
            "Cross validation...\n",
            "Epoch 8 | Iter 1 | Average Loss 0.699 | Current Loss 0.698904 | 146.6 ms/batch\n",
            "-------------------------------------------------------------------------------------\n",
            "Valid Summary | End of Epoch 8 | Time 170.81s | Valid Loss 0.123\n",
            "-------------------------------------------------------------------------------------\n",
            "Find better validated model, saving to exp/temp/temp_best.pth.tar\n",
            "Training...\n",
            "Epoch 9 | Iter 1 | Average Loss -0.045 | Current Loss -0.045359 | 627.2 ms/batch\n",
            "-------------------------------------------------------------------------------------\n",
            "Train Summary | End of Epoch 9 | Time 156.01s | Train Loss -0.115\n",
            "-------------------------------------------------------------------------------------\n",
            "Cross validation...\n",
            "Epoch 9 | Iter 1 | Average Loss 0.638 | Current Loss 0.637679 | 146.2 ms/batch\n",
            "-------------------------------------------------------------------------------------\n",
            "Valid Summary | End of Epoch 9 | Time 170.67s | Valid Loss 0.121\n",
            "-------------------------------------------------------------------------------------\n",
            "Find better validated model, saving to exp/temp/temp_best.pth.tar\n",
            "Training...\n",
            "Epoch 10 | Iter 1 | Average Loss -0.098 | Current Loss -0.097828 | 623.6 ms/batch\n",
            "-------------------------------------------------------------------------------------\n",
            "Train Summary | End of Epoch 10 | Time 156.13s | Train Loss -0.173\n",
            "-------------------------------------------------------------------------------------\n",
            "Cross validation...\n",
            "Epoch 10 | Iter 1 | Average Loss 0.733 | Current Loss 0.733128 | 148.5 ms/batch\n",
            "-------------------------------------------------------------------------------------\n",
            "Valid Summary | End of Epoch 10 | Time 170.72s | Valid Loss 0.118\n",
            "-------------------------------------------------------------------------------------\n",
            "Find better validated model, saving to exp/temp/temp_best.pth.tar\n",
            "Training...\n",
            "Epoch 11 | Iter 1 | Average Loss -0.164 | Current Loss -0.163618 | 669.7 ms/batch\n",
            "-------------------------------------------------------------------------------------\n",
            "Train Summary | End of Epoch 11 | Time 155.97s | Train Loss -0.221\n",
            "-------------------------------------------------------------------------------------\n",
            "Cross validation...\n",
            "Epoch 11 | Iter 1 | Average Loss 0.570 | Current Loss 0.569887 | 147.1 ms/batch\n",
            "-------------------------------------------------------------------------------------\n",
            "Valid Summary | End of Epoch 11 | Time 170.65s | Valid Loss 0.100\n",
            "-------------------------------------------------------------------------------------\n",
            "Find better validated model, saving to exp/temp/temp_best.pth.tar\n",
            "Training...\n",
            "Epoch 12 | Iter 1 | Average Loss -0.165 | Current Loss -0.164574 | 663.1 ms/batch\n",
            "-------------------------------------------------------------------------------------\n",
            "Train Summary | End of Epoch 12 | Time 156.15s | Train Loss -0.249\n",
            "-------------------------------------------------------------------------------------\n",
            "Cross validation...\n",
            "Epoch 12 | Iter 1 | Average Loss 0.157 | Current Loss 0.156726 | 147.3 ms/batch\n",
            "-------------------------------------------------------------------------------------\n",
            "Valid Summary | End of Epoch 12 | Time 170.85s | Valid Loss 0.077\n",
            "-------------------------------------------------------------------------------------\n",
            "Find better validated model, saving to exp/temp/temp_best.pth.tar\n",
            "Training...\n",
            "Epoch 13 | Iter 1 | Average Loss -0.115 | Current Loss -0.115070 | 626.9 ms/batch\n",
            "-------------------------------------------------------------------------------------\n",
            "Train Summary | End of Epoch 13 | Time 156.61s | Train Loss -0.275\n",
            "-------------------------------------------------------------------------------------\n",
            "Cross validation...\n",
            "Epoch 13 | Iter 1 | Average Loss 0.153 | Current Loss 0.152645 | 150.0 ms/batch\n",
            "-------------------------------------------------------------------------------------\n",
            "Valid Summary | End of Epoch 13 | Time 171.43s | Valid Loss 0.086\n",
            "-------------------------------------------------------------------------------------\n",
            "Training...\n",
            "Epoch 14 | Iter 1 | Average Loss -0.108 | Current Loss -0.107695 | 680.8 ms/batch\n"
          ]
        }
      ]
    },
    {
      "cell_type": "code",
      "source": [
        "#import os\n",
        "#os.environ[\"PYTORCH_CUDA_ALLOC_CONF\"] = \"max_split_size_mb:128\""
      ],
      "metadata": {
        "id": "Y2TGnjy5G5WH"
      },
      "execution_count": null,
      "outputs": []
    }
  ]
}