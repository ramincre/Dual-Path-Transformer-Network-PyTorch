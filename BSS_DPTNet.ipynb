{
  "nbformat": 4,
  "nbformat_minor": 0,
  "metadata": {
    "colab": {
      "provenance": [],
      "gpuType": "T4",
      "authorship_tag": "ABX9TyNGtmeLLgZvWUZL1AgEqxV2",
      "include_colab_link": true
    },
    "kernelspec": {
      "name": "python3",
      "display_name": "Python 3"
    },
    "language_info": {
      "name": "python"
    },
    "accelerator": "GPU"
  },
  "cells": [
    {
      "cell_type": "markdown",
      "metadata": {
        "id": "view-in-github",
        "colab_type": "text"
      },
      "source": [
        "<a href=\"https://colab.research.google.com/github/ramincre/Dual-Path-Transformer-Network-PyTorch/blob/main/BSS_DPTNet.ipynb\" target=\"_parent\"><img src=\"https://colab.research.google.com/assets/colab-badge.svg\" alt=\"Open In Colab\"/></a>"
      ]
    },
    {
      "cell_type": "code",
      "source": [
        "from google.colab import drive\n",
        "drive.mount('/content/drive')"
      ],
      "metadata": {
        "id": "dSv_cbYaHU6O",
        "colab": {
          "base_uri": "https://localhost:8080/"
        },
        "outputId": "54b40744-bc53-4095-8074-7081cf81c0a4"
      },
      "execution_count": 1,
      "outputs": [
        {
          "output_type": "stream",
          "name": "stdout",
          "text": [
            "Mounted at /content/drive\n"
          ]
        }
      ]
    },
    {
      "cell_type": "code",
      "source": [
        "import torch\n",
        "import torchvision.models as models\n",
        "from torch.profiler import profile, record_function, ProfilerActivity"
      ],
      "metadata": {
        "id": "rP9JOQKe0DLD"
      },
      "execution_count": 2,
      "outputs": []
    },
    {
      "cell_type": "code",
      "source": [
        "!cp \"/content/drive/MyDrive/Dataset/MiniLibriMix.rar\" \"/content\""
      ],
      "metadata": {
        "id": "E6ivoLKGH1SS"
      },
      "execution_count": 3,
      "outputs": []
    },
    {
      "cell_type": "code",
      "source": [
        "!unrar x /content/MiniLibriMix.rar"
      ],
      "metadata": {
        "id": "ZZjJfLda75lF"
      },
      "execution_count": null,
      "outputs": []
    },
    {
      "cell_type": "code",
      "source": [
        "import os"
      ],
      "metadata": {
        "id": "09qZ1ZlZiqgy"
      },
      "execution_count": 5,
      "outputs": []
    },
    {
      "cell_type": "code",
      "source": [
        "import torch\n",
        "torch.cuda.is_available()"
      ],
      "metadata": {
        "id": "gLK_7dD5H6Sc",
        "colab": {
          "base_uri": "https://localhost:8080/"
        },
        "outputId": "bb50a522-8821-4566-ed5d-3dd7933fa67f"
      },
      "execution_count": 6,
      "outputs": [
        {
          "output_type": "execute_result",
          "data": {
            "text/plain": [
              "True"
            ]
          },
          "metadata": {},
          "execution_count": 6
        }
      ]
    },
    {
      "cell_type": "code",
      "source": [
        "!git clone https://github.com/ramincre/Dual-Path-Transformer-Network-PyTorch.git"
      ],
      "metadata": {
        "id": "9Bo-emZQ8KJu",
        "colab": {
          "base_uri": "https://localhost:8080/"
        },
        "outputId": "3b4da4f0-5549-4781-ef4b-77e3d49ae8cb"
      },
      "execution_count": 7,
      "outputs": [
        {
          "output_type": "stream",
          "name": "stdout",
          "text": [
            "Cloning into 'Dual-Path-Transformer-Network-PyTorch'...\n",
            "remote: Enumerating objects: 298, done.\u001b[K\n",
            "remote: Counting objects: 100% (136/136), done.\u001b[K\n",
            "remote: Compressing objects: 100% (61/61), done.\u001b[K\n",
            "remote: Total 298 (delta 66), reused 129 (delta 63), pack-reused 162\u001b[K\n",
            "Receiving objects: 100% (298/298), 2.61 MiB | 16.03 MiB/s, done.\n",
            "Resolving deltas: 100% (135/135), done.\n"
          ]
        }
      ]
    },
    {
      "cell_type": "code",
      "source": [
        "!mkdir /content/output"
      ],
      "metadata": {
        "id": "V_oQg6MSFO_j"
      },
      "execution_count": 8,
      "outputs": []
    },
    {
      "cell_type": "code",
      "source": [
        "!python /content/Dual-Path-Transformer-Network-PyTorch/preprocess.py --in-dir /content/MiniLibriMix-Clean --out-dir /content/output --sample-rate 8000"
      ],
      "metadata": {
        "id": "ufTemlYT8bs2",
        "colab": {
          "base_uri": "https://localhost:8080/"
        },
        "outputId": "4a7d2499-2681-425d-8b14-72e80ad28d5f"
      },
      "execution_count": 9,
      "outputs": [
        {
          "output_type": "stream",
          "name": "stdout",
          "text": [
            "Namespace(in_dir='/content/MiniLibriMix-Clean', out_dir='/content/output', sample_rate=8000)\n"
          ]
        }
      ]
    },
    {
      "cell_type": "code",
      "source": [
        "!python /content/Dual-Path-Transformer-Network-PyTorch/train.py \\\n",
        "--train_dir '/content/output/tr'\\\n",
        "--valid_dir '/content/output/cv'\\\n",
        "--epochs 20 \\\n",
        "--batch_size 2 \\\n",
        "--num_workers 0  \\\n",
        "--N 48\\\n",
        "--momentum 0.01\\\n",
        "--l2 0.001"
      ],
      "metadata": {
        "id": "mprJdVCI__Uy",
        "colab": {
          "base_uri": "https://localhost:8080/"
        },
        "outputId": "ce9a7e1b-de03-484b-921f-e25c62f2eb52"
      },
      "execution_count": null,
      "outputs": [
        {
          "output_type": "stream",
          "name": "stdout",
          "text": [
            "Namespace(train_dir='/content/output/tr', valid_dir='/content/output/cv', sample_rate=8000, segment=4, cv_maxlen=8, N=48, C=2, L=4, H=4, K=250, B=6, use_cuda=1, epochs=20, half_lr=0, early_stop=0, max_norm=5, shuffle=0, batch_size=2, num_workers=0, optimizer='adam', lr=0.125, momentum=0.01, l2=0.001, save_folder='exp/temp', checkpoint=0, continue_from='', model_path='final.pth.tar', print_freq=1000, visdom=0, visdom_epoch=0, visdom_id='TasNet training')\n",
            "Drop 38 utts(0.00 h) which is short than 32000 samples\n",
            "# of parameters: 1577089\n",
            "Training...\n",
            "Epoch 1 | Iter 1 | Average Loss 19.190 | Current Loss 19.189829 | 7935.3 ms/batch\n",
            "-------------------------------------------------------------------------------------\n",
            "Train Summary | End of Epoch 1 | Time 86.46s | Train Loss 17.504\n",
            "-------------------------------------------------------------------------------------\n",
            "Cross validation...\n",
            "Epoch 1 | Iter 1 | Average Loss 15.952 | Current Loss 15.951954 | 269.0 ms/batch\n",
            "-------------------------------------------------------------------------------------\n",
            "Valid Summary | End of Epoch 1 | Time 113.72s | Valid Loss 13.085\n",
            "-------------------------------------------------------------------------------------\n",
            "Find better validated model, saving to exp/temp/temp_best.pth.tar\n",
            "Training...\n",
            "Epoch 2 | Iter 1 | Average Loss 13.510 | Current Loss 13.510075 | 654.6 ms/batch\n",
            "-------------------------------------------------------------------------------------\n",
            "Train Summary | End of Epoch 2 | Time 82.69s | Train Loss 10.860\n",
            "-------------------------------------------------------------------------------------\n",
            "Cross validation...\n",
            "Epoch 2 | Iter 1 | Average Loss 6.546 | Current Loss 6.546437 | 273.5 ms/batch\n",
            "-------------------------------------------------------------------------------------\n",
            "Valid Summary | End of Epoch 2 | Time 109.67s | Valid Loss 6.132\n",
            "-------------------------------------------------------------------------------------\n",
            "Find better validated model, saving to exp/temp/temp_best.pth.tar\n",
            "Training...\n",
            "Epoch 3 | Iter 1 | Average Loss 7.446 | Current Loss 7.446333 | 648.0 ms/batch\n",
            "-------------------------------------------------------------------------------------\n",
            "Train Summary | End of Epoch 3 | Time 82.77s | Train Loss 5.526\n",
            "-------------------------------------------------------------------------------------\n",
            "Cross validation...\n",
            "Epoch 3 | Iter 1 | Average Loss 3.374 | Current Loss 3.373653 | 265.9 ms/batch\n",
            "-------------------------------------------------------------------------------------\n",
            "Valid Summary | End of Epoch 3 | Time 109.81s | Valid Loss 3.013\n",
            "-------------------------------------------------------------------------------------\n",
            "Find better validated model, saving to exp/temp/temp_best.pth.tar\n",
            "Training...\n",
            "Epoch 4 | Iter 1 | Average Loss 3.861 | Current Loss 3.860562 | 651.0 ms/batch\n",
            "-------------------------------------------------------------------------------------\n",
            "Train Summary | End of Epoch 4 | Time 82.77s | Train Loss 3.042\n",
            "-------------------------------------------------------------------------------------\n",
            "Cross validation...\n",
            "Epoch 4 | Iter 1 | Average Loss 2.199 | Current Loss 2.198581 | 266.3 ms/batch\n",
            "-------------------------------------------------------------------------------------\n",
            "Valid Summary | End of Epoch 4 | Time 109.79s | Valid Loss 1.693\n",
            "-------------------------------------------------------------------------------------\n",
            "Find better validated model, saving to exp/temp/temp_best.pth.tar\n",
            "Training...\n",
            "Epoch 5 | Iter 1 | Average Loss 2.547 | Current Loss 2.546789 | 651.5 ms/batch\n",
            "-------------------------------------------------------------------------------------\n",
            "Train Summary | End of Epoch 5 | Time 82.80s | Train Loss 2.145\n",
            "-------------------------------------------------------------------------------------\n",
            "Cross validation...\n",
            "Epoch 5 | Iter 1 | Average Loss 1.702 | Current Loss 1.701624 | 265.7 ms/batch\n",
            "-------------------------------------------------------------------------------------\n",
            "Valid Summary | End of Epoch 5 | Time 109.82s | Valid Loss 1.165\n",
            "-------------------------------------------------------------------------------------\n",
            "Find better validated model, saving to exp/temp/temp_best.pth.tar\n",
            "Training...\n",
            "Epoch 6 | Iter 1 | Average Loss 1.957 | Current Loss 1.956881 | 651.0 ms/batch\n",
            "-------------------------------------------------------------------------------------\n",
            "Train Summary | End of Epoch 6 | Time 82.79s | Train Loss 1.692\n",
            "-------------------------------------------------------------------------------------\n",
            "Cross validation...\n",
            "Epoch 6 | Iter 1 | Average Loss 1.507 | Current Loss 1.506649 | 272.9 ms/batch\n",
            "-------------------------------------------------------------------------------------\n",
            "Valid Summary | End of Epoch 6 | Time 109.78s | Valid Loss 0.785\n",
            "-------------------------------------------------------------------------------------\n",
            "Find better validated model, saving to exp/temp/temp_best.pth.tar\n",
            "Training...\n",
            "Epoch 7 | Iter 1 | Average Loss 1.541 | Current Loss 1.540951 | 653.0 ms/batch\n",
            "-------------------------------------------------------------------------------------\n",
            "Train Summary | End of Epoch 7 | Time 82.77s | Train Loss 1.412\n",
            "-------------------------------------------------------------------------------------\n",
            "Cross validation...\n",
            "Epoch 7 | Iter 1 | Average Loss 1.539 | Current Loss 1.539476 | 273.4 ms/batch\n",
            "-------------------------------------------------------------------------------------\n",
            "Valid Summary | End of Epoch 7 | Time 109.80s | Valid Loss 0.528\n",
            "-------------------------------------------------------------------------------------\n",
            "Find better validated model, saving to exp/temp/temp_best.pth.tar\n",
            "Training...\n",
            "Epoch 8 | Iter 1 | Average Loss 1.224 | Current Loss 1.224388 | 649.9 ms/batch\n",
            "-------------------------------------------------------------------------------------\n",
            "Train Summary | End of Epoch 8 | Time 82.79s | Train Loss 1.205\n",
            "-------------------------------------------------------------------------------------\n",
            "Cross validation...\n",
            "Epoch 8 | Iter 1 | Average Loss 1.049 | Current Loss 1.048637 | 272.0 ms/batch\n",
            "-------------------------------------------------------------------------------------\n",
            "Valid Summary | End of Epoch 8 | Time 109.82s | Valid Loss 0.298\n",
            "-------------------------------------------------------------------------------------\n",
            "Find better validated model, saving to exp/temp/temp_best.pth.tar\n",
            "Training...\n",
            "Epoch 9 | Iter 1 | Average Loss 0.982 | Current Loss 0.982038 | 656.3 ms/batch\n",
            "-------------------------------------------------------------------------------------\n",
            "Train Summary | End of Epoch 9 | Time 82.80s | Train Loss 1.052\n",
            "-------------------------------------------------------------------------------------\n",
            "Cross validation...\n",
            "Epoch 9 | Iter 1 | Average Loss 0.714 | Current Loss 0.713505 | 270.3 ms/batch\n",
            "-------------------------------------------------------------------------------------\n",
            "Valid Summary | End of Epoch 9 | Time 109.84s | Valid Loss 0.137\n",
            "-------------------------------------------------------------------------------------\n",
            "Find better validated model, saving to exp/temp/temp_best.pth.tar\n",
            "Training...\n",
            "Epoch 10 | Iter 1 | Average Loss 0.815 | Current Loss 0.814604 | 653.0 ms/batch\n",
            "-------------------------------------------------------------------------------------\n",
            "Train Summary | End of Epoch 10 | Time 82.77s | Train Loss 0.934\n",
            "-------------------------------------------------------------------------------------\n",
            "Cross validation...\n",
            "Epoch 10 | Iter 1 | Average Loss 0.383 | Current Loss 0.383442 | 270.3 ms/batch\n",
            "-------------------------------------------------------------------------------------\n",
            "Valid Summary | End of Epoch 10 | Time 109.79s | Valid Loss 0.005\n",
            "-------------------------------------------------------------------------------------\n",
            "Find better validated model, saving to exp/temp/temp_best.pth.tar\n",
            "Training...\n",
            "Epoch 11 | Iter 1 | Average Loss 0.678 | Current Loss 0.678150 | 652.3 ms/batch\n",
            "-------------------------------------------------------------------------------------\n",
            "Train Summary | End of Epoch 11 | Time 82.79s | Train Loss 0.842\n",
            "-------------------------------------------------------------------------------------\n",
            "Cross validation...\n",
            "Epoch 11 | Iter 1 | Average Loss 0.196 | Current Loss 0.196299 | 267.1 ms/batch\n",
            "-------------------------------------------------------------------------------------\n",
            "Valid Summary | End of Epoch 11 | Time 109.74s | Valid Loss -0.110\n",
            "-------------------------------------------------------------------------------------\n",
            "Find better validated model, saving to exp/temp/temp_best.pth.tar\n",
            "Training...\n",
            "Epoch 12 | Iter 1 | Average Loss 0.587 | Current Loss 0.586958 | 651.5 ms/batch\n"
          ]
        }
      ]
    },
    {
      "cell_type": "code",
      "source": [
        "#import os\n",
        "#os.environ[\"PYTORCH_CUDA_ALLOC_CONF\"] = \"max_split_size_mb:128\""
      ],
      "metadata": {
        "id": "Y2TGnjy5G5WH"
      },
      "execution_count": null,
      "outputs": []
    },
    {
      "cell_type": "code",
      "source": [
        "!pip install mir_eval"
      ],
      "metadata": {
        "id": "VYBnHjnTVVhl"
      },
      "execution_count": null,
      "outputs": []
    },
    {
      "cell_type": "code",
      "source": [
        "!python /content/Dual-Path-Transformer-Network-PyTorch/evaluate.py \\\n",
        "--data_dir '/content/output/tt' \\\n",
        "--model_path '/content/exp/temp/temp_best.pth.tar'\\\n",
        "--batch_size 2\\\n",
        "--epochs 20 \\\n",
        "--batch_size 2 \\\n",
        "--num_workers 0  \\\n",
        "--N 48\\\n",
        "--momentum 0.01\\\n"
      ],
      "metadata": {
        "id": "izzbrIc8Repx"
      },
      "execution_count": null,
      "outputs": []
    },
    {
      "cell_type": "code",
      "source": [
        "!python /content/Dual-Path-Transformer-Network-PyTorch/separate.py\\\n",
        " --mix_json '/content/output/tt/mix.json' \\\n",
        " --model_path '/content/exp/temp/temp_best.pth.tar'\\\n",
        " --N 48 \\\n",
        "--batch_size 2"
      ],
      "metadata": {
        "id": "4bio4pGLW3um"
      },
      "execution_count": null,
      "outputs": []
    }
  ]
}